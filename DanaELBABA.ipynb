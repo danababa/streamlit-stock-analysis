{
  "nbformat": 4,
  "nbformat_minor": 0,
  "metadata": {
    "colab": {
      "provenance": []
    },
    "kernelspec": {
      "name": "python3",
      "display_name": "Python 3"
    },
    "language_info": {
      "name": "python"
    }
  },
  "cells": [
    {
      "cell_type": "markdown",
      "source": [
        "### Fetch stock data using yfinance."
      ],
      "metadata": {
        "id": "7jwayHorRCXY"
      }
    },
    {
      "cell_type": "code",
      "source": [
        "import yfinance as yf\n",
        "\n",
        "stocks = [\"AAPL\", \"MSFT\", \"GOOGL\", \"TSLA\"]\n",
        "\n",
        "# Fetch data for each stock and save as CSV\n",
        "for stock in stocks:\n",
        "    data = yf.download(stock, start=\"2020-01-01\", end=\"2023-12-31\")\n",
        "    data.reset_index(inplace=True)\n",
        "    data.to_csv(f\"{stock}.csv\", index=False)"
      ],
      "metadata": {
        "colab": {
          "base_uri": "https://localhost:8080/"
        },
        "id": "1vPRC3hDImB_",
        "outputId": "6f267f14-1228-44c1-cb84-c484e3ebfa40"
      },
      "execution_count": 26,
      "outputs": [
        {
          "output_type": "stream",
          "name": "stderr",
          "text": [
            "[*********************100%***********************]  1 of 1 completed\n",
            "[*********************100%***********************]  1 of 1 completed\n",
            "[*********************100%***********************]  1 of 1 completed\n",
            "[*********************100%***********************]  1 of 1 completed\n"
          ]
        }
      ]
    },
    {
      "cell_type": "code",
      "execution_count": 27,
      "metadata": {
        "id": "Sp-kP8CeDvVK"
      },
      "outputs": [],
      "source": [
        "from pyspark.sql import SparkSession\n",
        "import pandas as pd\n",
        "from pyspark.sql.window import Window\n",
        "from pyspark.sql.functions import col, sum, mean, min, corr, max, to_date, lag, lit\n",
        "from pyspark.sql.types import *\n"
      ]
    },
    {
      "cell_type": "code",
      "source": [
        "spark_application_name = \"Stock Analysis\"\n",
        "spark = (SparkSession.builder.appName(spark_application_name).getOrCreate())"
      ],
      "metadata": {
        "id": "YDBoI9d0F_lV"
      },
      "execution_count": 28,
      "outputs": []
    },
    {
      "cell_type": "markdown",
      "source": [
        "Read the CSV files into Spark DataFrames and combine them."
      ],
      "metadata": {
        "id": "XxwGuZbHQ9uB"
      }
    },
    {
      "cell_type": "code",
      "source": [
        "schema = StructType([\n",
        "    StructField(\"Date\", DateType(), True),\n",
        "    StructField(\"Adj Close\", DoubleType(), True),\n",
        "    StructField(\"Close\", DoubleType(), True),\n",
        "    StructField(\"High\", DoubleType(), True),\n",
        "    StructField(\"Low\", DoubleType(), True),\n",
        "    StructField(\"Open\", DoubleType(), True),\n",
        "    StructField(\"Volume\", DoubleType(), True),\n",
        "    StructField(\"Stock\", StringType(), False)\n",
        "])"
      ],
      "metadata": {
        "id": "HIxUIQgQH11j"
      },
      "execution_count": 29,
      "outputs": []
    },
    {
      "cell_type": "code",
      "source": [
        "dfs = []\n",
        "for stock in stocks:\n",
        "    # Read CSV with schema enforcement\n",
        "    df = spark.read.csv(f\"{stock}.csv\", header=True, schema=schema)\n",
        "\n",
        "    # Add a Stock column with the symbol\n",
        "    df = df.withColumn(\"Stock\", lit(stock))\n",
        "    dfs.append(df)\n",
        "\n",
        "# Combine all stocks into a single DataFrame\n",
        "combined_df = dfs[0]\n",
        "for df in dfs[1:]:\n",
        "    combined_df = combined_df.union(df)\n",
        "\n",
        "# Print the schema and preview the DataFrame\n",
        "combined_df.printSchema()\n",
        "combined_df.show(5)\n"
      ],
      "metadata": {
        "colab": {
          "base_uri": "https://localhost:8080/"
        },
        "id": "hNCpRw3FTwJk",
        "outputId": "81783867-9921-4bdd-91f1-b5a4425758f0"
      },
      "execution_count": 30,
      "outputs": [
        {
          "output_type": "stream",
          "name": "stdout",
          "text": [
            "root\n",
            " |-- Date: date (nullable = true)\n",
            " |-- Adj Close: double (nullable = true)\n",
            " |-- Close: double (nullable = true)\n",
            " |-- High: double (nullable = true)\n",
            " |-- Low: double (nullable = true)\n",
            " |-- Open: double (nullable = true)\n",
            " |-- Volume: double (nullable = true)\n",
            " |-- Stock: string (nullable = false)\n",
            "\n",
            "+----------+-----------------+-----------------+-----------------+-----------------+-----------------+----------+-----+\n",
            "|      Date|        Adj Close|            Close|             High|              Low|             Open|    Volume|Stock|\n",
            "+----------+-----------------+-----------------+-----------------+-----------------+-----------------+----------+-----+\n",
            "|      NULL|             NULL|             NULL|             NULL|             NULL|             NULL|      NULL| AAPL|\n",
            "|2020-01-02|72.79603576660156| 75.0875015258789| 75.1500015258789|73.79750061035156|74.05999755859375|1.354804E8| AAPL|\n",
            "|2020-01-03|72.08828735351562|74.35749816894531| 75.1449966430664|           74.125| 74.2874984741211|1.463228E8| AAPL|\n",
            "|2020-01-06|72.66272735595703|74.94999694824219|74.98999786376953|          73.1875|73.44750213623047|1.183872E8| AAPL|\n",
            "|2020-01-07|72.32096862792969|74.59750366210938| 75.2249984741211|74.37000274658203|74.95999908447266| 1.08872E8| AAPL|\n",
            "+----------+-----------------+-----------------+-----------------+-----------------+-----------------+----------+-----+\n",
            "only showing top 5 rows\n",
            "\n"
          ]
        }
      ]
    },
    {
      "cell_type": "code",
      "source": [
        "# Check for null or invalid values\n",
        "combined_df.select([col(c).isNull().alias(f\"null_{c}\") for c in combined_df.columns]).show()\n",
        "\n",
        "# Confirm column data types\n",
        "combined_df.printSchema()\n"
      ],
      "metadata": {
        "colab": {
          "base_uri": "https://localhost:8080/"
        },
        "id": "J7fbQAvaT5B3",
        "outputId": "c2326987-1c4c-4632-8b8a-9c40352d19a7"
      },
      "execution_count": 31,
      "outputs": [
        {
          "output_type": "stream",
          "name": "stdout",
          "text": [
            "+---------+--------------+----------+---------+--------+---------+-----------+----------+\n",
            "|null_Date|null_Adj Close|null_Close|null_High|null_Low|null_Open|null_Volume|null_Stock|\n",
            "+---------+--------------+----------+---------+--------+---------+-----------+----------+\n",
            "|     true|          true|      true|     true|    true|     true|       true|     false|\n",
            "|    false|         false|     false|    false|   false|    false|      false|     false|\n",
            "|    false|         false|     false|    false|   false|    false|      false|     false|\n",
            "|    false|         false|     false|    false|   false|    false|      false|     false|\n",
            "|    false|         false|     false|    false|   false|    false|      false|     false|\n",
            "|    false|         false|     false|    false|   false|    false|      false|     false|\n",
            "|    false|         false|     false|    false|   false|    false|      false|     false|\n",
            "|    false|         false|     false|    false|   false|    false|      false|     false|\n",
            "|    false|         false|     false|    false|   false|    false|      false|     false|\n",
            "|    false|         false|     false|    false|   false|    false|      false|     false|\n",
            "|    false|         false|     false|    false|   false|    false|      false|     false|\n",
            "|    false|         false|     false|    false|   false|    false|      false|     false|\n",
            "|    false|         false|     false|    false|   false|    false|      false|     false|\n",
            "|    false|         false|     false|    false|   false|    false|      false|     false|\n",
            "|    false|         false|     false|    false|   false|    false|      false|     false|\n",
            "|    false|         false|     false|    false|   false|    false|      false|     false|\n",
            "|    false|         false|     false|    false|   false|    false|      false|     false|\n",
            "|    false|         false|     false|    false|   false|    false|      false|     false|\n",
            "|    false|         false|     false|    false|   false|    false|      false|     false|\n",
            "|    false|         false|     false|    false|   false|    false|      false|     false|\n",
            "+---------+--------------+----------+---------+--------+---------+-----------+----------+\n",
            "only showing top 20 rows\n",
            "\n",
            "root\n",
            " |-- Date: date (nullable = true)\n",
            " |-- Adj Close: double (nullable = true)\n",
            " |-- Close: double (nullable = true)\n",
            " |-- High: double (nullable = true)\n",
            " |-- Low: double (nullable = true)\n",
            " |-- Open: double (nullable = true)\n",
            " |-- Volume: double (nullable = true)\n",
            " |-- Stock: string (nullable = false)\n",
            "\n"
          ]
        }
      ]
    },
    {
      "cell_type": "markdown",
      "source": [
        "### Pre-process the Data"
      ],
      "metadata": {
        "id": "3MD2rBwQRr_R"
      }
    },
    {
      "cell_type": "markdown",
      "source": [
        "Ensure the Date column is in the correct format."
      ],
      "metadata": {
        "id": "-ijKTM8oQ74-"
      }
    },
    {
      "cell_type": "code",
      "source": [
        "combined_df = combined_df.withColumn(\"Date\", to_date(col(\"Date\"), \"yyyy-MM-dd\"))"
      ],
      "metadata": {
        "id": "x7FZe36sQClv"
      },
      "execution_count": 32,
      "outputs": []
    },
    {
      "cell_type": "markdown",
      "source": [
        "Drop rows with missing values."
      ],
      "metadata": {
        "id": "wY21A6eqQ6Fk"
      }
    },
    {
      "cell_type": "code",
      "source": [
        "combined_df = combined_df.dropna()"
      ],
      "metadata": {
        "id": "DerU-PKbQ3wv"
      },
      "execution_count": 33,
      "outputs": []
    },
    {
      "cell_type": "markdown",
      "source": [
        "Add Calculated Columns"
      ],
      "metadata": {
        "id": "fcB1dbyxRy6U"
      }
    },
    {
      "cell_type": "code",
      "source": [
        "window_spec = Window.partitionBy(\"Stock\").orderBy(\"Date\")\n",
        "\n",
        "combined_df = combined_df.withColumn(\n",
        "    \"Prev_Close\", lag(\"Close\").over(window_spec)\n",
        ").withColumn(\n",
        "    \"Daily_Return\", (col(\"Close\") - col(\"Prev_Close\")) / col(\"Prev_Close\")\n",
        ")\n",
        "\n",
        "combined_df.show(5)\n",
        "\n"
      ],
      "metadata": {
        "id": "KXWhHiZkQ5hx",
        "colab": {
          "base_uri": "https://localhost:8080/"
        },
        "outputId": "288005aa-caf1-4e70-d1f0-10b4843b9f93"
      },
      "execution_count": 34,
      "outputs": [
        {
          "output_type": "stream",
          "name": "stdout",
          "text": [
            "+----------+-----------------+-----------------+-----------------+-----------------+-----------------+----------+-----+-----------------+--------------------+\n",
            "|      Date|        Adj Close|            Close|             High|              Low|             Open|    Volume|Stock|       Prev_Close|        Daily_Return|\n",
            "+----------+-----------------+-----------------+-----------------+-----------------+-----------------+----------+-----+-----------------+--------------------+\n",
            "|2020-01-02|72.79603576660156| 75.0875015258789| 75.1500015258789|73.79750061035156|74.05999755859375|1.354804E8| AAPL|             NULL|                NULL|\n",
            "|2020-01-03|72.08828735351562|74.35749816894531| 75.1449966430664|           74.125| 74.2874984741211|1.463228E8| AAPL| 75.0875015258789|-0.00972203551987...|\n",
            "|2020-01-06|72.66272735595703|74.94999694824219|74.98999786376953|          73.1875|73.44750213623047|1.183872E8| AAPL|74.35749816894531|0.007968245219206775|\n",
            "|2020-01-07|72.32096862792969|74.59750366210938| 75.2249984741211|74.37000274658203|74.95999908447266| 1.08872E8| AAPL|74.94999694824219|-0.00470304603716...|\n",
            "|2020-01-08|73.48434448242188|75.79750061035156|76.11000061035156|74.29000091552734|74.29000091552734|1.320792E8| AAPL|74.59750366210938|0.016086288271489533|\n",
            "+----------+-----------------+-----------------+-----------------+-----------------+-----------------+----------+-----+-----------------+--------------------+\n",
            "only showing top 5 rows\n",
            "\n"
          ]
        }
      ]
    },
    {
      "cell_type": "markdown",
      "source": [
        "Calculate a 5-day moving average for closing prices."
      ],
      "metadata": {
        "id": "BOseXkEoR3nZ"
      }
    },
    {
      "cell_type": "code",
      "source": [
        "combined_df = combined_df.withColumn(\n",
        "    \"Moving_Avg_5\", mean(\"Close\").over(window_spec.rowsBetween(-4, 0))\n",
        ")\n",
        "combined_df.show(5)\n"
      ],
      "metadata": {
        "id": "-Ip9C0SaR4Dg",
        "colab": {
          "base_uri": "https://localhost:8080/"
        },
        "outputId": "d0a866c4-6f11-40b8-aba4-4c66ada5c2ea"
      },
      "execution_count": 35,
      "outputs": [
        {
          "output_type": "stream",
          "name": "stdout",
          "text": [
            "+----------+-----------------+-----------------+-----------------+-----------------+-----------------+----------+-----+-----------------+--------------------+-----------------+\n",
            "|      Date|        Adj Close|            Close|             High|              Low|             Open|    Volume|Stock|       Prev_Close|        Daily_Return|     Moving_Avg_5|\n",
            "+----------+-----------------+-----------------+-----------------+-----------------+-----------------+----------+-----+-----------------+--------------------+-----------------+\n",
            "|2020-01-02|72.79603576660156| 75.0875015258789| 75.1500015258789|73.79750061035156|74.05999755859375|1.354804E8| AAPL|             NULL|                NULL| 75.0875015258789|\n",
            "|2020-01-03|72.08828735351562|74.35749816894531| 75.1449966430664|           74.125| 74.2874984741211|1.463228E8| AAPL| 75.0875015258789|-0.00972203551987...|74.72249984741211|\n",
            "|2020-01-06|72.66272735595703|74.94999694824219|74.98999786376953|          73.1875|73.44750213623047|1.183872E8| AAPL|74.35749816894531|0.007968245219206775|74.79833221435547|\n",
            "|2020-01-07|72.32096862792969|74.59750366210938| 75.2249984741211|74.37000274658203|74.95999908447266| 1.08872E8| AAPL|74.94999694824219|-0.00470304603716...|74.74812507629395|\n",
            "|2020-01-08|73.48434448242188|75.79750061035156|76.11000061035156|74.29000091552734|74.29000091552734|1.320792E8| AAPL|74.59750366210938|0.016086288271489533|74.95800018310547|\n",
            "+----------+-----------------+-----------------+-----------------+-----------------+-----------------+----------+-----+-----------------+--------------------+-----------------+\n",
            "only showing top 5 rows\n",
            "\n"
          ]
        }
      ]
    },
    {
      "cell_type": "markdown",
      "source": [
        "## Aggregation and Analysis"
      ],
      "metadata": {
        "id": "Iib2CikPR7X9"
      }
    },
    {
      "cell_type": "markdown",
      "source": [
        "Calculate total, average, minimum, and maximum closing prices for each stock."
      ],
      "metadata": {
        "id": "GR5ydWbKSCz_"
      }
    },
    {
      "cell_type": "code",
      "source": [
        "summary_stats = combined_df.groupBy(\"Stock\").agg(\n",
        "    sum(\"Close\").alias(\"Total_Close\"),\n",
        "    mean(\"Close\").alias(\"Avg_Close\"),\n",
        "    min(\"Close\").alias(\"Min_Close\"),\n",
        "    max(\"Close\").alias(\"Max_Close\")\n",
        ")\n",
        "summary_stats.show()\n"
      ],
      "metadata": {
        "colab": {
          "base_uri": "https://localhost:8080/"
        },
        "id": "7Itf7Df-SF0i",
        "outputId": "31b2d90a-ed5b-4ac5-e6e6-249e4184e4c3"
      },
      "execution_count": 36,
      "outputs": [
        {
          "output_type": "stream",
          "name": "stdout",
          "text": [
            "+-----+------------------+------------------+------------------+------------------+\n",
            "|Stock|       Total_Close|         Avg_Close|         Min_Close|         Max_Close|\n",
            "+-----+------------------+------------------+------------------+------------------+\n",
            "| AAPL|141652.98002624512|140.80813123881225|56.092498779296875|198.11000061035156|\n",
            "| MSFT|  264358.620010376|262.78192843973756| 135.4199981689453|382.70001220703125|\n",
            "|GOOGL|108517.46757125854| 107.8702460946904| 52.70650100708008| 149.8385009765625|\n",
            "| TSLA| 210381.1292438507|209.12637101774425| 24.08133316040039| 409.9700012207031|\n",
            "+-----+------------------+------------------+------------------+------------------+\n",
            "\n"
          ]
        }
      ]
    },
    {
      "cell_type": "markdown",
      "source": [
        "Find the stock with the highest daily return."
      ],
      "metadata": {
        "id": "J1L1wd9CSJ8C"
      }
    },
    {
      "cell_type": "code",
      "source": [
        "highest_return = combined_df.orderBy(col(\"Daily_Return\").desc()).select(\"Stock\", \"Date\", \"Daily_Return\").first()\n",
        "print(f\"Highest daily return: {highest_return}\")"
      ],
      "metadata": {
        "colab": {
          "base_uri": "https://localhost:8080/"
        },
        "id": "_SXXsO4-SLX8",
        "outputId": "e9d09ef5-9666-4e82-c366-11b14d910bc3"
      },
      "execution_count": 37,
      "outputs": [
        {
          "output_type": "stream",
          "name": "stdout",
          "text": [
            "Highest daily return: Row(Stock='TSLA', Date=datetime.date(2020, 2, 3), Daily_Return=0.19894859376394902)\n"
          ]
        }
      ]
    },
    {
      "cell_type": "code",
      "source": [
        "combined_df.write.csv(\"processed_stocks1.csv\", header=True)"
      ],
      "metadata": {
        "id": "kkbaikodSShj"
      },
      "execution_count": 40,
      "outputs": []
    },
    {
      "cell_type": "markdown",
      "source": [
        " Show the First and Last 40 Rows"
      ],
      "metadata": {
        "id": "cJGlxCEtT9Hz"
      }
    },
    {
      "cell_type": "code",
      "source": [
        "combined_df.show(40)\n",
        "combined_df.orderBy(col(\"Date\").desc()).limit(40).show(40, truncate=False)"
      ],
      "metadata": {
        "id": "h7DPVMZvT2w6"
      },
      "execution_count": null,
      "outputs": []
    },
    {
      "cell_type": "markdown",
      "source": [
        "Get the Number of Observations"
      ],
      "metadata": {
        "id": "5kpT0wkaUMQZ"
      }
    },
    {
      "cell_type": "code",
      "source": [
        "num_observations = combined_df.count()\n",
        "print(f\"Number of observations: {num_observations}\")\n"
      ],
      "metadata": {
        "id": "JTjY4ixcUK5K"
      },
      "execution_count": null,
      "outputs": []
    },
    {
      "cell_type": "markdown",
      "source": [
        "Deduce the Period Between Data Points"
      ],
      "metadata": {
        "id": "n6EI_bwgUnUj"
      }
    },
    {
      "cell_type": "code",
      "source": [
        "from pyspark.sql.functions import datediff\n",
        "\n",
        "def deduce_period(df):\n",
        "    # Ensure the DataFrame is sorted by Date\n",
        "    df = df.orderBy(\"Date\")\n",
        "\n",
        "    # Calculate difference between consecutive dates\n",
        "    window_spec = Window.orderBy(\"Date\")\n",
        "    df = df.withColumn(\"Prev_Date\", lag(\"Date\").over(window_spec))\n",
        "    df = df.withColumn(\"Date_Diff\", datediff(col(\"Date\"), col(\"Prev_Date\")))\n",
        "\n",
        "    # Determine the most common period\n",
        "    period = df.groupBy(\"Date_Diff\").count().orderBy(col(\"count\").desc()).first()\n",
        "    print(f\"Most common period: {period['Date_Diff']} days\")\n",
        "    return period['Date_Diff']\n",
        "deduce_period(combined_df)"
      ],
      "metadata": {
        "id": "D9Z4gJz6Um7J"
      },
      "execution_count": null,
      "outputs": []
    },
    {
      "cell_type": "markdown",
      "source": [
        "Descriptive Statistics"
      ],
      "metadata": {
        "id": "CMT0ZHR1U5l9"
      }
    },
    {
      "cell_type": "code",
      "source": [
        "from pyspark.sql.functions import mean, stddev\n",
        "\n",
        "def descriptive_statistics(df):\n",
        "    stats = df.describe()\n",
        "    print(\"Descriptive Statistics:\")\n",
        "    stats.show()\n",
        "descriptive_statistics(combined_df)"
      ],
      "metadata": {
        "id": "jbSIIkbfU9tg"
      },
      "execution_count": null,
      "outputs": []
    },
    {
      "cell_type": "code",
      "source": [
        "from pyspark.sql.functions import col, sum\n",
        "\n",
        "def count_missing_values(df):\n",
        "    missing_counts = df.select(\n",
        "        *[(sum(col(c).isNull().cast(\"int\")).alias(f\"missing_{c}\")) for c in df.columns]\n",
        "    )\n",
        "    print(\"Missing Values:\")\n",
        "    missing_counts.show()\n",
        "count_missing_values(combined_df)"
      ],
      "metadata": {
        "id": "oNGyOeT_VM-l"
      },
      "execution_count": null,
      "outputs": []
    },
    {
      "cell_type": "markdown",
      "source": [
        "Correlation Between Values"
      ],
      "metadata": {
        "id": "EFJZ4AMkVT49"
      }
    },
    {
      "cell_type": "code",
      "source": [
        "from pyspark.sql.functions import col, sum, corr\n",
        "\n",
        "def calculate_correlation_matrix(df):\n",
        "    # Get numeric columns\n",
        "    numeric_cols = [col_name for col_name, dtype in df.dtypes if dtype in (\"int\", \"double\")]\n",
        "\n",
        "    if not numeric_cols:\n",
        "        print(\"No numeric columns available for correlation.\")\n",
        "        return\n",
        "\n",
        "    correlation_matrix = {}\n",
        "\n",
        "    print(\"Correlation Matrix:\")\n",
        "    for i, col1 in enumerate(numeric_cols):\n",
        "        for col2 in numeric_cols[i:]:  # Avoid duplicate pairs\n",
        "            if col1 == col2:\n",
        "                correlation_value = 1.0\n",
        "            else:\n",
        "                correlation_value = df.stat.corr(col1, col2)\n",
        "\n",
        "            correlation_matrix[(col1, col2)] = correlation_value\n",
        "            correlation_matrix[(col2, col1)] = correlation_value\n",
        "\n",
        "    # Print the matrix\n",
        "    print(f\"{'':<15}\", end=\"\")\n",
        "    for col in numeric_cols:\n",
        "        print(f\"{col:<15}\", end=\"\")\n",
        "    print()\n",
        "    for col1 in numeric_cols:\n",
        "        print(f\"{col1:<15}\", end=\"\")\n",
        "        for col2 in numeric_cols:\n",
        "            print(f\"{correlation_matrix[(col1, col2)]:<15.2f}\", end=\"\")\n",
        "        print()\n",
        "\n",
        "calculate_correlation_matrix(combined_df)"
      ],
      "metadata": {
        "id": "kmzg23ltVVOT",
        "colab": {
          "base_uri": "https://localhost:8080/"
        },
        "outputId": "85e80cda-cb34-4484-bad0-a7f3f1832b7d"
      },
      "execution_count": 42,
      "outputs": [
        {
          "output_type": "stream",
          "name": "stdout",
          "text": [
            "Correlation Matrix:\n",
            "               Adj Close      Close          High           Low            Open           Volume         Prev_Close     Daily_Return   Moving_Avg_5   \n",
            "Adj Close      1.00           1.00           1.00           1.00           1.00           -0.28          1.00           0.00           1.00           \n",
            "Close          1.00           1.00           1.00           1.00           1.00           -0.29          1.00           0.00           1.00           \n",
            "High           1.00           1.00           1.00           1.00           1.00           -0.28          1.00           -0.02          1.00           \n",
            "Low            1.00           1.00           1.00           1.00           1.00           -0.30          1.00           -0.02          1.00           \n",
            "Open           1.00           1.00           1.00           1.00           1.00           -0.29          1.00           -0.04          1.00           \n",
            "Volume         -0.28          -0.29          -0.28          -0.30          -0.29          1.00           -0.29          0.08           -0.29          \n",
            "Prev_Close     1.00           1.00           1.00           1.00           1.00           -0.29          1.00           -0.05          1.00           \n",
            "Daily_Return   0.00           0.00           -0.02          -0.02          -0.04          0.08           -0.05          1.00           -0.04          \n",
            "Moving_Avg_5   1.00           1.00           1.00           1.00           1.00           -0.29          1.00           -0.04          1.00           \n"
          ]
        }
      ]
    },
    {
      "cell_type": "markdown",
      "source": [
        "Average of Opening and Closing Prices for Each Stock (Week, Month, Year)"
      ],
      "metadata": {
        "id": "k-aYW3Z5ZquK"
      }
    },
    {
      "cell_type": "code",
      "source": [
        "def calculate_average_prices_for_stock(df, stock=None):\n",
        "    from pyspark.sql.functions import year, month, weekofyear, avg\n",
        "\n",
        "    df = df.withColumn(\"Year\", year(\"Date\")) \\\n",
        "           .withColumn(\"Month\", month(\"Date\")) \\\n",
        "           .withColumn(\"Week\", weekofyear(\"Date\"))\n",
        "\n",
        "    if stock:\n",
        "        df = df.filter(df[\"Stock\"] == stock)\n",
        "\n",
        "    avg_prices = df.groupBy(\"Stock\", \"Year\", \"Month\", \"Week\") \\\n",
        "                   .agg(avg(\"Open\").alias(\"Avg_Open\"), avg(\"Close\").alias(\"Avg_Close\"))\n",
        "\n",
        "    avg_prices.orderBy(\"Stock\", \"Year\", \"Month\", \"Week\").show(50)  # Adjust number of rows displayed as needed\n",
        "    return avg_prices\n",
        "\n",
        "calculate_average_prices_for_stock(combined_df, stock=\"AAPL\")\n",
        "calculate_average_prices_for_stock(combined_df, stock=\"MSFT\")\n",
        "calculate_average_prices_for_stock(combined_df, stock=\"GOOGL\")\n",
        "calculate_average_prices_for_stock(combined_df, stock=\"TSLA\")\n"
      ],
      "metadata": {
        "id": "j6TlQo0icDcT",
        "colab": {
          "base_uri": "https://localhost:8080/"
        },
        "outputId": "20fc9a70-0906-45f4-ae00-d0473094f2a4"
      },
      "execution_count": 23,
      "outputs": [
        {
          "output_type": "stream",
          "name": "stdout",
          "text": [
            "+-----+----+-----+----+------------------+------------------+\n",
            "|Stock|Year|Month|Week|          Avg_Open|         Avg_Close|\n",
            "+-----+----+-----+----+------------------+------------------+\n",
            "| AAPL|2020|    1|   1| 74.17374801635742| 74.72249984741211|\n",
            "| AAPL|2020|    1|   2| 75.43150024414062| 76.06699981689454|\n",
            "| AAPL|2020|    1|   3| 78.50250091552735| 78.74749908447265|\n",
            "| AAPL|2020|    1|   4| 79.62125015258789| 79.48812675476074|\n",
            "| AAPL|2020|    1|   5| 79.42900085449219| 79.21800079345704|\n",
            "| AAPL|2020|    2|   6| 79.40349884033203| 79.71000061035156|\n",
            "| AAPL|2020|    2|   7| 80.40899963378907| 80.90899963378907|\n",
            "| AAPL|2020|    2|   8| 79.78812408447266| 79.74812316894531|\n",
            "| AAPL|2020|    2|   9| 71.15500183105469| 71.28949737548828|\n",
            "| AAPL|2020|    3|  10| 72.99550018310546| 73.64100036621093|\n",
            "| AAPL|2020|    3|  11| 66.95550231933593| 67.65699996948243|\n",
            "| AAPL|2020|    3|  12|61.189999389648435| 60.78800048828125|\n",
            "| AAPL|2020|    3|  13| 60.72300033569336|61.147500610351564|\n",
            "| AAPL|2020|    3|  14| 63.29250144958496| 63.63749885559082|\n",
            "| AAPL|2020|    4|  14|  60.8033332824707|60.604166666666664|\n",
            "| AAPL|2020|    4|  15| 65.82124900817871| 65.99749946594238|\n",
            "| AAPL|2020|    4|  16| 70.13899993896484| 70.71099853515625|\n",
            "| AAPL|2020|    4|  17| 69.04550018310547| 68.96999969482422|\n",
            "| AAPL|2020|    4|  18| 71.34812355041504| 71.45499992370605|\n",
            "| AAPL|2020|    5|  18|           71.5625| 72.26750183105469|\n",
            "| AAPL|2020|    5|  19| 74.67750091552735| 75.26100006103516|\n",
            "| AAPL|2020|    5|  20| 77.14700012207031| 77.56600036621094|\n",
            "| AAPL|2020|    5|  21| 78.96549987792969| 79.15350189208985|\n",
            "| AAPL|2020|    5|  22| 79.72875022888184| 79.43937492370605|\n",
            "| AAPL|2020|    6|  23| 80.54500122070313| 81.20650024414063|\n",
            "| AAPL|2020|    6|  24| 85.21600036621093| 85.24949798583984|\n",
            "| AAPL|2020|    6|  25| 87.29550018310547| 87.40549926757812|\n",
            "| AAPL|2020|    6|  26| 90.27250061035156| 90.19649963378906|\n",
            "| AAPL|2020|    6|  27|  89.1662483215332|  90.8224983215332|\n",
            "| AAPL|2020|    7|  27| 91.62125015258789| 91.02749633789062|\n",
            "| AAPL|2020|    7|  28| 94.42599945068359| 94.73000030517578|\n",
            "| AAPL|2020|    7|  29| 96.92899932861329| 96.62200012207032|\n",
            "| AAPL|2020|    7|  30| 96.05350036621094| 95.61799926757813|\n",
            "| AAPL|2020|    7|  31| 95.78000030517578| 97.11050109863281|\n",
            "| AAPL|2020|    8|  32|110.06399993896484|110.73600006103516|\n",
            "| AAPL|2020|    8|  33| 112.8654998779297|113.00600128173828|\n",
            "| AAPL|2020|    8|  34|116.28199920654296|117.70449981689453|\n",
            "| AAPL|2020|    8|  35| 126.5459991455078|125.40449981689453|\n",
            "| AAPL|2020|    8|  36|127.58000183105469| 129.0399932861328|\n",
            "| AAPL|2020|    9|  36|129.33249855041504|126.85499572753906|\n",
            "| AAPL|2020|    9|  37|116.53499984741211|113.90749931335449|\n",
            "| AAPL|2020|    9|  38|113.68000183105468|112.04199829101563|\n",
            "| AAPL|2020|    9|  39|108.48800048828124| 109.9020004272461|\n",
            "| AAPL|2020|    9|  40| 114.4500020345052|114.95333099365234|\n",
            "| AAPL|2020|   10|  40|115.26499938964844|114.90499877929688|\n",
            "| AAPL|2020|   10|  41| 115.1520004272461|115.33600158691407|\n",
            "| AAPL|2020|   10|  42|121.26599884033203|121.28399963378907|\n",
            "| AAPL|2020|   10|  43|117.33399810791016| 116.2300018310547|\n",
            "| AAPL|2020|   10|  44|113.59600067138672|113.40599975585937|\n",
            "| AAPL|2020|   11|  45|113.83600006103515| 114.3759994506836|\n",
            "+-----+----+-----+----+------------------+------------------+\n",
            "only showing top 50 rows\n",
            "\n",
            "+-----+----+-----+----+------------------+------------------+\n",
            "|Stock|Year|Month|Week|          Avg_Open|         Avg_Close|\n",
            "+-----+----+-----+----+------------------+------------------+\n",
            "| MSFT|2020|    1|   1| 158.5500030517578| 159.6199951171875|\n",
            "| MSFT|2020|    1|   2| 159.9980010986328| 160.0259979248047|\n",
            "| MSFT|2020|    1|   3|163.90799865722656|164.37200012207032|\n",
            "| MSFT|2020|    1|   4|166.94499588012695|165.98999786376953|\n",
            "| MSFT|2020|    1|   5|167.80599975585938|167.75799865722655|\n",
            "| MSFT|2020|    2|   6|179.08399963378906|180.38399963378907|\n",
            "| MSFT|2020|    2|   7|185.22799987792968| 185.3820037841797|\n",
            "| MSFT|2020|    2|   8| 185.9474983215332|184.37999725341797|\n",
            "| MSFT|2020|    2|   9|165.48200378417968|165.86399841308594|\n",
            "| MSFT|2020|    3|  10|  167.252001953125|167.13800048828125|\n",
            "| MSFT|2020|    3|  11|151.81800231933593|152.61199951171875|\n",
            "| MSFT|2020|    3|  12| 141.3540008544922|140.49000244140626|\n",
            "| MSFT|2020|    3|  13|145.96399841308593|147.40999755859374|\n",
            "| MSFT|2020|    3|  14| 155.9199981689453|158.97000122070312|\n",
            "| MSFT|2020|    4|  14|153.32000223795572|153.73333231608072|\n",
            "| MSFT|2020|    4|  15|165.48500061035156|164.75750350952148|\n",
            "| MSFT|2020|    4|  16| 171.6700012207031|173.34599914550782|\n",
            "| MSFT|2020|    4|  17|173.53800048828126| 172.4740020751953|\n",
            "| MSFT|2020|    4|  18| 176.3499984741211|           175.125|\n",
            "| MSFT|2020|    5|  18| 175.8000030517578|174.57000732421875|\n",
            "| MSFT|2020|    5|  19|181.26799926757812|182.08399658203126|\n",
            "| MSFT|2020|    5|  20|181.81999816894532|182.53800048828126|\n",
            "| MSFT|2020|    5|  21|184.83599853515625|184.22799987792968|\n",
            "| MSFT|2020|    5|  22|182.50249862670898|182.00749969482422|\n",
            "| MSFT|2020|    6|  23|183.70599975585938| 184.6440002441406|\n",
            "| MSFT|2020|    6|  24| 189.7480010986328|  189.802001953125|\n",
            "| MSFT|2020|    6|  25|193.01799926757812|193.64400329589844|\n",
            "| MSFT|2020|    6|  26| 199.4019989013672|199.39800109863282|\n",
            "| MSFT|2020|    6|  27| 196.8300018310547| 200.9749984741211|\n",
            "| MSFT|2020|    7|  27|204.40999603271484|205.47999572753906|\n",
            "| MSFT|2020|    7|  28|211.86000061035156| 211.9540008544922|\n",
            "| MSFT|2020|    7|  29|208.00799865722655|  206.052001953125|\n",
            "| MSFT|2020|    7|  30|207.09400024414063|207.18800048828126|\n",
            "| MSFT|2020|    7|  31|202.59599914550782|203.76799926757812|\n",
            "| MSFT|2020|    8|  32|213.55599975585938|214.31999816894532|\n",
            "| MSFT|2020|    8|  33|208.46399841308593|207.68399963378906|\n",
            "| MSFT|2020|    8|  34|211.00400085449218|211.81400146484376|\n",
            "| MSFT|2020|    8|  35| 219.3679992675781|221.36000061035156|\n",
            "| MSFT|2020|    8|  36|             227.0|225.52999877929688|\n",
            "| MSFT|2020|    9|  36| 224.4625015258789|222.61750030517578|\n",
            "| MSFT|2020|    9|  37|208.67499923706055|205.83749771118164|\n",
            "| MSFT|2020|    9|  38| 205.2260009765625|204.50800170898438|\n",
            "| MSFT|2020|    9|  39|202.71000061035156|204.31199951171874|\n",
            "| MSFT|2020|    9|  40|209.32000223795572|209.00999959309897|\n",
            "| MSFT|2020|   10|  40|210.74500274658203|209.32500457763672|\n",
            "| MSFT|2020|   10|  41|208.96799926757814|  210.502001953125|\n",
            "| MSFT|2020|   10|  42|220.35199890136718|220.88800048828125|\n",
            "| MSFT|2020|   10|  43|215.65999755859374|214.95799865722657|\n",
            "| MSFT|2020|   10|  44|208.13600158691406|206.63999938964844|\n",
            "| MSFT|2020|   11|  45|213.29999694824218|214.43199768066407|\n",
            "+-----+----+-----+----+------------------+------------------+\n",
            "only showing top 50 rows\n",
            "\n",
            "+-----+----+-----+----+------------------+------------------+\n",
            "|Stock|Year|Month|Week|          Avg_Open|         Avg_Close|\n",
            "+-----+----+-----+----+------------------+------------------+\n",
            "|GOOGL|2020|    1|   1| 67.41025161743164| 68.25499725341797|\n",
            "|GOOGL|2020|    1|   2| 69.98309936523438| 70.46710052490235|\n",
            "|GOOGL|2020|    1|   3|  72.1625991821289| 72.39500122070312|\n",
            "|GOOGL|2020|    1|   4| 74.36375045776367| 73.96224975585938|\n",
            "|GOOGL|2020|    1|   5| 72.37699890136719| 72.25960083007813|\n",
            "|GOOGL|2020|    2|   6| 72.99119873046875| 73.29139862060546|\n",
            "|GOOGL|2020|    2|   7| 75.30890045166015|  75.6947006225586|\n",
            "|GOOGL|2020|    2|   8| 75.81412506103516| 75.55949974060059|\n",
            "|GOOGL|2020|    2|   9| 68.82480010986328| 68.50849914550781|\n",
            "|GOOGL|2020|    3|  10| 67.23530044555665|  67.1614013671875|\n",
            "|GOOGL|2020|    3|  11|60.052301025390626| 60.27679977416992|\n",
            "|GOOGL|2020|    3|  12|54.593099975585936|54.621300506591794|\n",
            "|GOOGL|2020|    3|  13|55.271200561523436| 55.58940048217774|\n",
            "|GOOGL|2020|    3|  14|57.034250259399414|57.706499099731445|\n",
            "|GOOGL|2020|    4|  14|  55.6451670328776|55.197166442871094|\n",
            "|GOOGL|2020|    4|  15|  59.6411247253418|59.741498947143555|\n",
            "|GOOGL|2020|    4|  16|  62.3681999206543| 62.69370040893555|\n",
            "|GOOGL|2020|    4|  17| 62.74449996948242|62.794900512695314|\n",
            "|GOOGL|2020|    4|  18| 65.64450073242188| 64.90412521362305|\n",
            "|GOOGL|2020|    5|  18| 66.20449829101562| 65.86599731445312|\n",
            "|GOOGL|2020|    5|  19|  67.4676010131836| 67.70969848632812|\n",
            "|GOOGL|2020|    5|  20| 68.42950134277343| 68.57019958496093|\n",
            "|GOOGL|2020|    5|  21| 69.51110076904297| 69.88730163574219|\n",
            "|GOOGL|2020|    5|  22| 71.02987480163574|  71.1676254272461|\n",
            "|GOOGL|2020|    6|  23| 71.55820007324219| 71.70749969482422|\n",
            "|GOOGL|2020|    6|  24| 71.99920043945312| 71.79640045166016|\n",
            "|GOOGL|2020|    6|  25| 71.81280059814453| 71.78510131835938|\n",
            "|GOOGL|2020|    6|  26| 72.04140014648438| 71.50979919433594|\n",
            "|GOOGL|2020|    6|  27| 68.93050003051758| 70.38049697875977|\n",
            "|GOOGL|2020|    7|  27| 71.77525329589844| 72.79824829101562|\n",
            "|GOOGL|2020|    7|  28| 75.08260040283203|  75.5083999633789|\n",
            "|GOOGL|2020|    7|  29|  75.8436996459961| 75.81740112304688|\n",
            "|GOOGL|2020|    7|  30| 77.20860137939454| 77.09570007324218|\n",
            "|GOOGL|2020|    7|  31| 75.38280029296875|  75.8291000366211|\n",
            "|GOOGL|2020|    8|  32| 74.39720306396484| 74.38470001220703|\n",
            "|GOOGL|2020|    8|  33|  74.9373992919922| 75.05879974365234|\n",
            "|GOOGL|2020|    8|  34|  77.0634979248047| 77.68450012207032|\n",
            "|GOOGL|2020|    8|  35| 80.54949951171875| 81.03079986572266|\n",
            "|GOOGL|2020|    8|  36| 82.17849731445312| 81.47650146484375|\n",
            "|GOOGL|2020|    9|  36| 82.60862350463867| 82.28987503051758|\n",
            "|GOOGL|2020|    9|  37| 76.90287590026855| 76.40800094604492|\n",
            "|GOOGL|2020|    9|  38| 75.76129913330078| 74.94169769287109|\n",
            "|GOOGL|2020|    9|  39| 71.61760101318359| 71.61269989013672|\n",
            "|GOOGL|2020|    9|  40| 73.28066762288411| 73.17133331298828|\n",
            "|GOOGL|2020|   10|  40| 73.58224868774414| 73.58749771118164|\n",
            "|GOOGL|2020|   10|  41| 73.55769958496094|   73.868701171875|\n",
            "|GOOGL|2020|   10|  42|  77.9594009399414| 78.18269958496094|\n",
            "|GOOGL|2020|   10|  43| 78.68940124511718|  79.0666000366211|\n",
            "|GOOGL|2020|   10|  44| 79.38400115966797| 78.66959991455079|\n",
            "|GOOGL|2020|   11|  45|  84.8167007446289| 85.38060150146484|\n",
            "+-----+----+-----+----+------------------+------------------+\n",
            "only showing top 50 rows\n",
            "\n",
            "+-----+----+-----+----+------------------+------------------+\n",
            "|Stock|Year|Month|Week|          Avg_Open|         Avg_Close|\n",
            "+-----+----+-----+----+------------------+------------------+\n",
            "| TSLA|2020|    1|   1|28.833333015441895|29.109000205993652|\n",
            "| TSLA|2020|    1|   2| 31.39279975891113|31.629733276367187|\n",
            "| TSLA|2020|    1|   3| 34.25173416137695|34.736932373046876|\n",
            "| TSLA|2020|    1|   4| 37.28366661071777| 37.56300067901611|\n",
            "| TSLA|2020|    1|   5| 39.44786682128906| 39.96386642456055|\n",
            "| TSLA|2020|    2|   6| 50.80506591796875| 51.98386688232422|\n",
            "| TSLA|2020|    2|   7| 51.67626724243164|52.226399993896486|\n",
            "| TSLA|2020|    2|   8|59.733832359313965| 59.60383224487305|\n",
            "| TSLA|2020|    2|   9| 51.06933364868164|50.126531982421874|\n",
            "| TSLA|2020|    3|  10| 49.25319976806641|48.888667297363284|\n",
            "| TSLA|2020|    3|  11|41.078800964355466| 39.92973327636719|\n",
            "| TSLA|2020|    3|  12| 28.15213279724121|27.888800048828124|\n",
            "| TSLA|2020|    3|  13| 33.44720039367676| 33.61413421630859|\n",
            "| TSLA|2020|    3|  14| 33.71700096130371|  34.2043342590332|\n",
            "| TSLA|2020|    4|  14|33.211778004964195| 31.46755599975586|\n",
            "| TSLA|2020|    4|  15| 36.20816707611084| 36.39216709136963|\n",
            "| TSLA|2020|    4|  16| 46.93800048828125| 47.86360092163086|\n",
            "| TSLA|2020|    4|  17| 48.06946716308594| 47.94626693725586|\n",
            "| TSLA|2020|    4|  18|52.976834297180176|52.504332542419434|\n",
            "| TSLA|2020|    5|  18| 50.33333206176758| 46.75466537475586|\n",
            "| TSLA|2020|    5|  19| 51.17693328857422|52.152532958984374|\n",
            "| TSLA|2020|    5|  20| 53.44919967651367|53.522132873535156|\n",
            "| TSLA|2020|    5|  21| 54.68826675415039| 54.42239990234375|\n",
            "| TSLA|2020|    5|  22|54.626999855041504|  54.6651668548584|\n",
            "| TSLA|2020|    6|  23| 58.78053359985351| 58.83546600341797|\n",
            "| TSLA|2020|    6|  24|   64.281201171875| 64.31680145263672|\n",
            "| TSLA|2020|    6|  25| 65.77506790161132| 66.26239929199218|\n",
            "| TSLA|2020|    6|  26|  65.8931999206543| 65.36893310546876|\n",
            "| TSLA|2020|    6|  27| 65.85033416748047| 69.63866806030273|\n",
            "| TSLA|2020|    7|  27| 76.81599807739258| 77.60966491699219|\n",
            "| TSLA|2020|    7|  28|    91.72919921875| 94.21666870117187|\n",
            "| TSLA|2020|    7|  29|103.31479949951172|100.81799926757813|\n",
            "| TSLA|2020|    7|  30|104.70533294677735| 103.1167999267578|\n",
            "| TSLA|2020|    7|  31| 99.23999938964843| 99.11266784667968|\n",
            "| TSLA|2020|    8|  32| 99.03426666259766| 98.65746765136718|\n",
            "| TSLA|2020|    8|  33|101.19986724853516|101.59239959716797|\n",
            "| TSLA|2020|    8|  34| 124.6190689086914|128.70760040283204|\n",
            "| TSLA|2020|    8|  35|141.82333068847657|141.90479736328126|\n",
            "| TSLA|2020|    8|  36|148.20333862304688|166.10667419433594|\n",
            "| TSLA|2020|    9|  36|149.26416778564453|145.64500427246094|\n",
            "| TSLA|2020|    9|  37|123.39583206176758|120.04583168029785|\n",
            "| TSLA|2020|    9|  38|141.39467010498046|145.11466369628906|\n",
            "| TSLA|2020|    9|  39|136.34399871826173|136.60733337402343|\n",
            "| TSLA|2020|    9|  40| 140.2155558268229| 141.0311075846354|\n",
            "| TSLA|2020|   10|  40|143.69166564941406|           143.875|\n",
            "| TSLA|2020|   10|  41|142.37200012207032|141.65866394042968|\n",
            "| TSLA|2020|   10|  42|149.32533264160156|149.25333251953126|\n",
            "| TSLA|2020|   10|  43|144.29666748046876|141.45533447265626|\n",
            "| TSLA|2020|   10|  44|   137.91533203125| 136.6566650390625|\n",
            "| TSLA|2020|   11|  45|139.91666259765626|140.89533081054688|\n",
            "+-----+----+-----+----+------------------+------------------+\n",
            "only showing top 50 rows\n",
            "\n"
          ]
        },
        {
          "output_type": "execute_result",
          "data": {
            "text/plain": [
              "DataFrame[Stock: string, Year: int, Month: int, Week: int, Avg_Open: double, Avg_Close: double]"
            ]
          },
          "metadata": {},
          "execution_count": 23
        }
      ]
    },
    {
      "cell_type": "markdown",
      "source": [
        "Daily and Monthly Changes in Stock Prices\n"
      ],
      "metadata": {
        "id": "TOp6XoUnZ-MT"
      }
    },
    {
      "cell_type": "code",
      "source": [
        "combined_df.select(\"Stock\").distinct().show()\n"
      ],
      "metadata": {
        "id": "VhxFqaD8Jem-",
        "colab": {
          "base_uri": "https://localhost:8080/"
        },
        "outputId": "a6c9ea66-b5a7-47c1-cc67-e7821e439235"
      },
      "execution_count": 24,
      "outputs": [
        {
          "output_type": "stream",
          "name": "stdout",
          "text": [
            "+-----+\n",
            "|Stock|\n",
            "+-----+\n",
            "| AAPL|\n",
            "| MSFT|\n",
            "|GOOGL|\n",
            "| TSLA|\n",
            "+-----+\n",
            "\n"
          ]
        }
      ]
    },
    {
      "cell_type": "code",
      "source": [
        "def calculate_daily_return(df):\n",
        "    df = df.withColumn(\"Daily_Return\", (col(\"Close\") - lag(\"Close\").over(window_spec)) / lag(\"Close\").over(window_spec))\n",
        "\n",
        "    df.show(10)\n",
        "    return df\n",
        "calculate_daily_return(combined_df)"
      ],
      "metadata": {
        "id": "WamzcFfJeVCN",
        "colab": {
          "base_uri": "https://localhost:8080/"
        },
        "outputId": "601e217d-32a2-467a-d0af-8922b1d3332c"
      },
      "execution_count": 25,
      "outputs": [
        {
          "metadata": {
            "tags": null
          },
          "name": "stdout",
          "output_type": "stream",
          "text": [
            "+----------+-----------------+-----------------+-----------------+-----------------+-----------------+----------+-----+-----------------+--------------------+-----------------+\n",
            "|      Date|        Adj Close|            Close|             High|              Low|             Open|    Volume|Stock|       Prev_Close|        Daily_Return|     Moving_Avg_5|\n",
            "+----------+-----------------+-----------------+-----------------+-----------------+-----------------+----------+-----+-----------------+--------------------+-----------------+\n",
            "|2020-01-02|72.79603576660156| 75.0875015258789| 75.1500015258789|73.79750061035156|74.05999755859375|1.354804E8| AAPL|             NULL|                NULL| 75.0875015258789|\n",
            "|2020-01-03|72.08828735351562|74.35749816894531| 75.1449966430664|           74.125| 74.2874984741211|1.463228E8| AAPL| 75.0875015258789|-0.00972203551987...|74.72249984741211|\n",
            "|2020-01-06|72.66272735595703|74.94999694824219|74.98999786376953|          73.1875|73.44750213623047|1.183872E8| AAPL|74.35749816894531|0.007968245219206775|74.79833221435547|\n",
            "|2020-01-07|72.32096862792969|74.59750366210938| 75.2249984741211|74.37000274658203|74.95999908447266| 1.08872E8| AAPL|74.94999694824219|-0.00470304603716...|74.74812507629395|\n",
            "|2020-01-08|73.48434448242188|75.79750061035156|76.11000061035156|74.29000091552734|74.29000091552734|1.320792E8| AAPL|74.59750366210938|0.016086288271489533|74.95800018310547|\n",
            "|2020-01-09|75.04521179199219|77.40750122070312|77.60749816894531|76.55000305175781|76.80999755859375|1.701084E8| AAPL|75.79750061035156| 0.02124081397654538|75.42200012207032|\n",
            "|2020-01-10|75.21488189697266| 77.5824966430664| 78.1675033569336|          77.0625| 77.6500015258789|1.406448E8| AAPL|77.40750122070312|0.002260703673463...|76.06699981689454|\n",
            "|2020-01-13|   76.82177734375|79.23999786376953|79.26750183105469| 77.7874984741211|77.91000366210938| 1.21532E8| AAPL| 77.5824966430664|0.021364370733372846|           76.925|\n",
            "|2020-01-14| 75.7844467163086|78.16999816894531|79.39250183105469| 78.0425033569336|79.17500305175781|1.619544E8| AAPL|79.23999786376953|-0.01350327768387597|77.63949890136719|\n",
            "|2020-01-15|75.45966339111328|77.83499908447266|           78.875|77.38749694824219| 77.9625015258789|1.219236E8| AAPL|78.16999816894531|-0.00428551992221...| 78.0469985961914|\n",
            "+----------+-----------------+-----------------+-----------------+-----------------+-----------------+----------+-----+-----------------+--------------------+-----------------+\n",
            "only showing top 10 rows\n",
            "\n"
          ]
        },
        {
          "data": {
            "text/plain": [
              "DataFrame[Date: date, Adj Close: double, Close: double, High: double, Low: double, Open: double, Volume: double, Stock: string, Prev_Close: double, Daily_Return: double, Moving_Avg_5: double]"
            ]
          },
          "execution_count": 25,
          "metadata": {},
          "output_type": "execute_result"
        }
      ]
    },
    {
      "cell_type": "markdown",
      "source": [],
      "metadata": {
        "id": "GwwMwCHYJi16"
      }
    },
    {
      "cell_type": "markdown",
      "source": [
        "To find the stocks with the highest daily return we do the following:"
      ],
      "metadata": {
        "id": "sSdG1L0ILPIu"
      }
    },
    {
      "cell_type": "code",
      "source": [
        "from pyspark.sql.functions import col, max\n",
        "\n",
        "def get_stock_with_highest_daily_return(df):\n",
        "    # Find the maximum daily return for each stock\n",
        "    stock_max_return = df.groupBy(\"Stock\").agg(max(\"Daily_Return\").alias(\"Max_Daily_Return\"))\n",
        "\n",
        "    # Find the stock with the overall highest daily return\n",
        "    highest_return = stock_max_return.orderBy(col(\"Max_Daily_Return\").desc()).limit(1)\n",
        "\n",
        "    # Show the results\n",
        "    stock_max_return.show()  # Max daily return per stock\n",
        "    highest_return.show()    # Stock with the highest daily return overall\n",
        "\n",
        "    return stock_max_return, highest_return\n",
        "\n",
        "stock_max_return, highest_return = get_stock_with_highest_daily_return(combined_df)\n"
      ],
      "metadata": {
        "colab": {
          "base_uri": "https://localhost:8080/"
        },
        "id": "OBD6sUa3LOFQ",
        "outputId": "e8aad605-ea53-4559-9aad-cb1781c2698a"
      },
      "execution_count": 43,
      "outputs": [
        {
          "output_type": "stream",
          "name": "stdout",
          "text": [
            "+-----+-------------------+\n",
            "|Stock|   Max_Daily_Return|\n",
            "+-----+-------------------+\n",
            "| AAPL| 0.1198082665473158|\n",
            "|GOOGL|  0.092411527026541|\n",
            "| MSFT|0.14216888119914378|\n",
            "| TSLA|0.19894859376394902|\n",
            "+-----+-------------------+\n",
            "\n",
            "+-----+-------------------+\n",
            "|Stock|   Max_Daily_Return|\n",
            "+-----+-------------------+\n",
            "| TSLA|0.19894859376394902|\n",
            "+-----+-------------------+\n",
            "\n"
          ]
        }
      ]
    },
    {
      "cell_type": "markdown",
      "source": [
        "Calculate the average daily return for different periods like week, month, and year"
      ],
      "metadata": {
        "id": "hmB9MQ0ILnpu"
      }
    },
    {
      "cell_type": "code",
      "source": [
        "from pyspark.sql.functions import year, month, weekofyear, avg\n",
        "\n",
        "def calculate_average_daily_return(df):\n",
        "\n",
        "    # Extract year, month, and week information\n",
        "    df = df.withColumn(\"Year\", year(\"Date\")) \\\n",
        "           .withColumn(\"Month\", month(\"Date\")) \\\n",
        "           .withColumn(\"Week\", weekofyear(\"Date\"))\n",
        "\n",
        "    # Calculate average daily return per week\n",
        "    weekly_avg_return = df.groupBy(\"Stock\", \"Year\", \"Week\") \\\n",
        "                          .agg(avg(\"Daily_Return\").alias(\"Avg_Daily_Return_Weekly\"))\n",
        "\n",
        "    # Calculate average daily return per month\n",
        "    monthly_avg_return = df.groupBy(\"Stock\", \"Year\", \"Month\") \\\n",
        "                           .agg(avg(\"Daily_Return\").alias(\"Avg_Daily_Return_Monthly\"))\n",
        "\n",
        "    # Calculate average daily return per year\n",
        "    yearly_avg_return = df.groupBy(\"Stock\", \"Year\") \\\n",
        "                          .agg(avg(\"Daily_Return\").alias(\"Avg_Daily_Return_Yearly\"))\n",
        "\n",
        "    # Display the results\n",
        "    print(\"Weekly Average Daily Return:\")\n",
        "    weekly_avg_return.orderBy(\"Stock\", \"Year\", \"Week\").show(10)\n",
        "\n",
        "    print(\"Monthly Average Daily Return:\")\n",
        "    monthly_avg_return.orderBy(\"Stock\", \"Year\", \"Month\").show(10)\n",
        "\n",
        "    print(\"Yearly Average Daily Return:\")\n",
        "    yearly_avg_return.orderBy(\"Stock\", \"Year\").show(10)\n",
        "\n",
        "    return weekly_avg_return, monthly_avg_return, yearly_avg_return\n",
        "\n",
        "weekly_avg, monthly_avg, yearly_avg = calculate_average_daily_return(combined_df)\n"
      ],
      "metadata": {
        "colab": {
          "base_uri": "https://localhost:8080/"
        },
        "id": "oG4tL8YXLpqn",
        "outputId": "2028a9ab-a5f1-4206-992b-cc04fa5ef283"
      },
      "execution_count": 44,
      "outputs": [
        {
          "output_type": "stream",
          "name": "stdout",
          "text": [
            "Weekly Average Daily Return:\n",
            "+-----+----+----+-----------------------+\n",
            "|Stock|Year|Week|Avg_Daily_Return_Weekly|\n",
            "+-----+----+----+-----------------------+\n",
            "| AAPL|2020|   1|   -0.00972203551987...|\n",
            "| AAPL|2020|   2|    0.00857060102070845|\n",
            "| AAPL|2020|   3|   0.005434609657911612|\n",
            "| AAPL|2020|   4|   -3.18374412677957...|\n",
            "| AAPL|2020|   5|   -0.00519428282555...|\n",
            "| AAPL|2020|   6|   0.006838098524189764|\n",
            "| AAPL|2020|   7|   0.003117847997880882|\n",
            "| AAPL|2020|   8|   -0.00918045046484...|\n",
            "| AAPL|2020|   9|   -0.02629241490788...|\n",
            "| AAPL|2020|  10|   0.012401776797485784|\n",
            "+-----+----+----+-----------------------+\n",
            "only showing top 10 rows\n",
            "\n",
            "Monthly Average Daily Return:\n",
            "+-----+----+-----+------------------------+\n",
            "|Stock|Year|Month|Avg_Daily_Return_Monthly|\n",
            "+-----+----+-----+------------------------+\n",
            "| AAPL|2020|    1|    0.001652955304736...|\n",
            "| AAPL|2020|    2|    -0.00623179704149...|\n",
            "| AAPL|2020|    3|    -0.00126147907067...|\n",
            "| AAPL|2020|    4|    0.007338761990882674|\n",
            "| AAPL|2020|    5|    0.004024296186482163|\n",
            "| AAPL|2020|    6|    0.006459280595860221|\n",
            "| AAPL|2020|    7|    0.007313666993779124|\n",
            "| AAPL|2020|    8|    0.009482041302413424|\n",
            "| AAPL|2020|    9|    -0.00456417474387...|\n",
            "| AAPL|2020|   10|    -0.00244310358610...|\n",
            "+-----+----+-----+------------------------+\n",
            "only showing top 10 rows\n",
            "\n",
            "Yearly Average Daily Return:\n",
            "+-----+----+-----------------------+\n",
            "|Stock|Year|Avg_Daily_Return_Yearly|\n",
            "+-----+----+-----------------------+\n",
            "| AAPL|2020|   0.002693474220567...|\n",
            "| AAPL|2021|   0.001281353788732063|\n",
            "| AAPL|2022|   -9.92643064757177...|\n",
            "| AAPL|2023|   0.001655579449053287|\n",
            "|GOOGL|2020|   0.001275818255897799|\n",
            "|GOOGL|2021|   0.002112532376884607|\n",
            "|GOOGL|2022|   -0.00167807726228...|\n",
            "|GOOGL|2023|   0.002022102524838...|\n",
            "| MSFT|2020|   0.001675393471272...|\n",
            "| MSFT|2021|   0.001729711478504...|\n",
            "+-----+----+-----------------------+\n",
            "only showing top 10 rows\n",
            "\n"
          ]
        }
      ]
    },
    {
      "cell_type": "markdown",
      "source": [
        "Yearly Returns: The yearly average daily returns show that most stocks maintained relatively stable performance, with values typically close to zero. However, certain years (AAPL in 2022 with -9.92) exhibit significant negative performance, potentially indicating a challenging year for that stock.\n",
        "\n",
        "Monthly and Weekly Volatility: The monthly and weekly average daily returns for AAPL show fluctuations, with some months (May 2020 and July 2020) having positive returns, while others (February 2020 and September 2020) show negative returns. These variations reflect the inherent volatility of stock prices over shorter periods.\n"
      ],
      "metadata": {
        "id": "UR38soJ7MPgb"
      }
    },
    {
      "cell_type": "markdown",
      "source": [
        "\n",
        "  Calculate the moving average for a specified column and period.\n",
        "    \n",
        "    :param df: PySpark DataFrame\n",
        "    :param column_name: The name of the column to calculate the moving average for\n",
        "    :param num_points: The number of periods to consider for the moving average\n",
        "    :return: DataFrame with a new column containing the moving average\n",
        "  "
      ],
      "metadata": {
        "id": "9_iNotmXM0bM"
      }
    },
    {
      "cell_type": "code",
      "source": [
        "from pyspark.sql.window import Window\n",
        "from pyspark.sql.functions import avg, col\n",
        "\n",
        "def calculate_moving_average(df, column_name, num_points):\n",
        "\n",
        "    # Define a window for calculating the moving average\n",
        "    window_spec = Window.partitionBy(\"Stock\").orderBy(\"Date\").rowsBetween(-num_points + 1, 0)\n",
        "\n",
        "    # Calculate the moving average\n",
        "    moving_avg_column = f\"Moving_Avg_{column_name}_{num_points}\"\n",
        "    df = df.withColumn(moving_avg_column, avg(col(column_name)).over(window_spec))\n",
        "\n",
        "    # Show a sample of the resulting DataFrame\n",
        "    df.show(10)\n",
        "\n",
        "    return df\n",
        "\n",
        "# Calculate the 5-period moving average for the 'Open' column\n",
        "combined_df_with_moving_avg = calculate_moving_average(combined_df, \"Open\", 5)\n"
      ],
      "metadata": {
        "colab": {
          "base_uri": "https://localhost:8080/"
        },
        "id": "5Lw_LDFrMyHT",
        "outputId": "0dc8620b-6e41-4299-e96f-087283ce6cc1"
      },
      "execution_count": 45,
      "outputs": [
        {
          "output_type": "stream",
          "name": "stdout",
          "text": [
            "+----------+-----------------+-----------------+-----------------+-----------------+-----------------+----------+-----+-----------------+--------------------+-----------------+-----------------+\n",
            "|      Date|        Adj Close|            Close|             High|              Low|             Open|    Volume|Stock|       Prev_Close|        Daily_Return|     Moving_Avg_5|Moving_Avg_Open_5|\n",
            "+----------+-----------------+-----------------+-----------------+-----------------+-----------------+----------+-----+-----------------+--------------------+-----------------+-----------------+\n",
            "|2020-01-02|72.79603576660156| 75.0875015258789| 75.1500015258789|73.79750061035156|74.05999755859375|1.354804E8| AAPL|             NULL|                NULL| 75.0875015258789|74.05999755859375|\n",
            "|2020-01-03|72.08828735351562|74.35749816894531| 75.1449966430664|           74.125| 74.2874984741211|1.463228E8| AAPL| 75.0875015258789|-0.00972203551987...|74.72249984741211|74.17374801635742|\n",
            "|2020-01-06|72.66272735595703|74.94999694824219|74.98999786376953|          73.1875|73.44750213623047|1.183872E8| AAPL|74.35749816894531|0.007968245219206775|74.79833221435547|73.93166605631511|\n",
            "|2020-01-07|72.32096862792969|74.59750366210938| 75.2249984741211|74.37000274658203|74.95999908447266| 1.08872E8| AAPL|74.94999694824219|-0.00470304603716...|74.74812507629395|74.18874931335449|\n",
            "|2020-01-08|73.48434448242188|75.79750061035156|76.11000061035156|74.29000091552734|74.29000091552734|1.320792E8| AAPL|74.59750366210938|0.016086288271489533|74.95800018310547|74.20899963378906|\n",
            "|2020-01-09|75.04521179199219|77.40750122070312|77.60749816894531|76.55000305175781|76.80999755859375|1.701084E8| AAPL|75.79750061035156| 0.02124081397654538|75.42200012207032|74.75899963378906|\n",
            "|2020-01-10|75.21488189697266| 77.5824966430664| 78.1675033569336|          77.0625| 77.6500015258789|1.406448E8| AAPL|77.40750122070312|0.002260703673463...|76.06699981689454|75.43150024414062|\n",
            "|2020-01-13|   76.82177734375|79.23999786376953|79.26750183105469| 77.7874984741211|77.91000366210938| 1.21532E8| AAPL| 77.5824966430664|0.021364370733372846|           76.925|76.32400054931641|\n",
            "|2020-01-14| 75.7844467163086|78.16999816894531|79.39250183105469| 78.0425033569336|79.17500305175781|1.619544E8| AAPL|79.23999786376953|-0.01350327768387597|77.63949890136719|77.16700134277343|\n",
            "|2020-01-15|75.45966339111328|77.83499908447266|           78.875|77.38749694824219| 77.9625015258789|1.219236E8| AAPL|78.16999816894531|-0.00428551992221...| 78.0469985961914|77.90150146484375|\n",
            "+----------+-----------------+-----------------+-----------------+-----------------+-----------------+----------+-----+-----------------+--------------------+-----------------+-----------------+\n",
            "only showing top 10 rows\n",
            "\n"
          ]
        }
      ]
    },
    {
      "cell_type": "markdown",
      "source": [
        "Analyze the Results Across All Stocks:"
      ],
      "metadata": {
        "id": "Gkz9hUiONa3o"
      }
    },
    {
      "cell_type": "code",
      "source": [
        "from pyspark.sql.functions import avg\n",
        "\n",
        "avg_moving_avg = combined_df_with_moving_avg.groupBy(\"Stock\").agg(\n",
        "    avg(\"Moving_Avg_Open_5\").alias(\"Avg_Moving_Avg_Open_5\")\n",
        ")\n",
        "avg_moving_avg.show()"
      ],
      "metadata": {
        "colab": {
          "base_uri": "https://localhost:8080/"
        },
        "id": "_XjtxpTeNYqe",
        "outputId": "0ac35f94-db9c-461d-9fef-8cecee9bb482"
      },
      "execution_count": 46,
      "outputs": [
        {
          "output_type": "stream",
          "name": "stdout",
          "text": [
            "+-----+---------------------+\n",
            "|Stock|Avg_Moving_Avg_Open_5|\n",
            "+-----+---------------------+\n",
            "| AAPL|   140.43777437216406|\n",
            "|GOOGL|   107.65696952572068|\n",
            "| MSFT|   262.23848399446064|\n",
            "| TSLA|   208.74314159342094|\n",
            "+-----+---------------------+\n",
            "\n"
          ]
        }
      ]
    },
    {
      "cell_type": "markdown",
      "source": [
        "We can see that MSFT has the highest average 5-period moving average of opening prices (262.24), indicating consistently higher opening prices compared to other stocks.\n",
        "GOOGL has the lowest average moving average (107.65), suggesting it has lower overall opening prices in comparison.\n",
        "Finally, TSLA and AAPL are in the middle range, with TSLA showing slightly higher average opening prices than AAPL.\n",
        "This indicates varying price levels and trends among the stocks over time."
      ],
      "metadata": {
        "id": "aoCUpqhTNneY"
      }
    },
    {
      "cell_type": "markdown",
      "source": [
        "  Calculate the correlation between two stocks based on a specified column.\n",
        "    \n",
        "    :param df: PySpark DataFrame containing stock data\n",
        "    :param stock1: The first stock symbol (e.g., \"AAPL\")\n",
        "    :param stock2: The second stock symbol (e.g., \"MSFT\")\n",
        "    :param column: The column to calculate correlation on\n",
        "    :return: Correlation value between the two stocks\n",
        "    "
      ],
      "metadata": {
        "id": "ige7MaXPOV2S"
      }
    },
    {
      "cell_type": "code",
      "source": [
        "\n",
        "def calculate_correlation_between_stocks(df, stock1, stock2, column=\"Close\"):\n",
        "\n",
        "    # Filter data for the two stocks\n",
        "    stock1_data = df.filter(col(\"Stock\") == stock1).select(\"Date\", col(column).alias(f\"{column}_{stock1}\"))\n",
        "    stock2_data = df.filter(col(\"Stock\") == stock2).select(\"Date\", col(column).alias(f\"{column}_{stock2}\"))\n",
        "\n",
        "    # Join the two stocks' data on Date\n",
        "    joined_data = stock1_data.join(stock2_data, on=\"Date\", how=\"inner\")\n",
        "\n",
        "    # Calculate the correlation\n",
        "    correlation = joined_data.stat.corr(f\"{column}_{stock1}\", f\"{column}_{stock2}\")\n",
        "\n",
        "    print(f\"Correlation between {stock1} and {stock2} based on {column}: {correlation}\")\n",
        "    return correlation\n",
        "\n",
        "calculate_correlation_between_stocks(combined_df, \"AAPL\", \"MSFT\", column=\"Close\")\n",
        "calculate_correlation_between_stocks(combined_df, \"AAPL\", \"GOOGL\", column=\"Close\")\n",
        "calculate_correlation_between_stocks(combined_df, \"AAPL\", \"TSLA\", column=\"Close\")\n",
        "calculate_correlation_between_stocks(combined_df, \"MSFT\", \"GOOGL\", column=\"Close\")\n",
        "calculate_correlation_between_stocks(combined_df, \"MSFT\", \"TSLA\", column=\"Close\")\n",
        "calculate_correlation_between_stocks(combined_df, \"GOOGL\", \"TSLA\", column=\"Close\")\n"
      ],
      "metadata": {
        "colab": {
          "base_uri": "https://localhost:8080/"
        },
        "id": "JLHU_n6UOTPH",
        "outputId": "a036d22b-09d3-4234-a514-74a2a1cc179d"
      },
      "execution_count": 47,
      "outputs": [
        {
          "output_type": "stream",
          "name": "stdout",
          "text": [
            "Correlation between AAPL and MSFT based on Close: 0.9344927047414922\n",
            "Correlation between AAPL and GOOGL based on Close: 0.8321030784933668\n",
            "Correlation between AAPL and TSLA based on Close: 0.7982315983854091\n",
            "Correlation between MSFT and GOOGL based on Close: 0.9105887428487369\n",
            "Correlation between MSFT and TSLA based on Close: 0.7592030550662611\n",
            "Correlation between GOOGL and TSLA based on Close: 0.8465239627012778\n"
          ]
        },
        {
          "output_type": "execute_result",
          "data": {
            "text/plain": [
              "0.8465239627012778"
            ]
          },
          "metadata": {},
          "execution_count": 47
        }
      ]
    },
    {
      "cell_type": "markdown",
      "source": [
        "We notice that strongest correlation: AAPL and MSFT (0.93) show the highest correlation, reflecting similar market trends in the tech sector.\n",
        "\n",
        "Moderate correlation: AAPL and GOOGL (0.83) and GOOGL and TSLA (0.84) indicate moderately similar price movements.\n",
        "\n",
        "Weakest correlation: MSFT and TSLA (0.76) and AAPL and TSLA (0.79) suggest TSLA is less influenced by tech market trends."
      ],
      "metadata": {
        "id": "H_RT5Hz4PFDm"
      }
    },
    {
      "cell_type": "markdown",
      "source": [
        "  Calculate return rate from grouped data that includes first and last close prices.\n",
        "    \n",
        "    :param df_grouped: PySpark DataFrame with grouped data containing first and last close columns\n",
        "    :param first_column: Name of the column with the first close price\n",
        "    :param last_column: Name of the column with the last close price\n",
        "    :param return_column: Name of the output column for return rate\n",
        "    :return: DataFrame with calculated return rate\n"
      ],
      "metadata": {
        "id": "-FUhC7luPz7h"
      }
    },
    {
      "cell_type": "code",
      "source": [
        "from pyspark.sql.functions import first, last, col\n",
        "\n",
        "def calculate_return_rate(df):\n",
        "\n",
        "    # Add Year, Month, and Week columns\n",
        "    df = df.withColumn(\"Year\", year(\"Date\")) \\\n",
        "           .withColumn(\"Month\", month(\"Date\")) \\\n",
        "           .withColumn(\"Week\", weekofyear(\"Date\"))\n",
        "\n",
        "    # Calculate return rate per week\n",
        "    weekly_return = df.groupBy(\"Stock\", \"Year\", \"Week\").agg(\n",
        "        first(\"Close\").alias(\"First_Close\"),\n",
        "        last(\"Close\").alias(\"Last_Close\")\n",
        "    ).withColumn(\"Weekly_Return_Rate\", ((col(\"Last_Close\") - col(\"First_Close\")) / col(\"First_Close\")) * 100)\n",
        "\n",
        "    # Calculate return rate per month\n",
        "    monthly_return = df.groupBy(\"Stock\", \"Year\", \"Month\").agg(\n",
        "        first(\"Close\").alias(\"First_Close\"),\n",
        "        last(\"Close\").alias(\"Last_Close\")\n",
        "    ).withColumn(\"Monthly_Return_Rate\", ((col(\"Last_Close\") - col(\"First_Close\")) / col(\"First_Close\")) * 100)\n",
        "\n",
        "    # Calculate return rate per year\n",
        "    yearly_return = df.groupBy(\"Stock\", \"Year\").agg(\n",
        "        first(\"Close\").alias(\"First_Close\"),\n",
        "        last(\"Close\").alias(\"Last_Close\")\n",
        "    ).withColumn(\"Yearly_Return_Rate\", ((col(\"Last_Close\") - col(\"First_Close\")) / col(\"First_Close\")) * 100)\n",
        "\n",
        "    # Display the results\n",
        "    print(\"Weekly Return Rate:\")\n",
        "    weekly_return.orderBy(\"Stock\", \"Year\", \"Week\").show(10)\n",
        "\n",
        "    print(\"Monthly Return Rate:\")\n",
        "    monthly_return.orderBy(\"Stock\", \"Year\", \"Month\").show(10)\n",
        "\n",
        "    print(\"Yearly Return Rate:\")\n",
        "    yearly_return.orderBy(\"Stock\", \"Year\").show(10)\n",
        "\n",
        "    return weekly_return, monthly_return, yearly_return\n"
      ],
      "metadata": {
        "id": "Xxe3jawqPxvZ"
      },
      "execution_count": 54,
      "outputs": []
    },
    {
      "cell_type": "code",
      "source": [
        "weekly_return, monthly_return, yearly_return = calculate_return_rate(combined_df)"
      ],
      "metadata": {
        "colab": {
          "base_uri": "https://localhost:8080/"
        },
        "id": "wJ7-9u2xP7ab",
        "outputId": "91900360-ba61-4920-e484-3304d9760c7e"
      },
      "execution_count": 55,
      "outputs": [
        {
          "output_type": "stream",
          "name": "stdout",
          "text": [
            "Weekly Return Rate:\n",
            "+-----+----+----+-----------------+-----------------+-------------------+\n",
            "|Stock|Year|Week|      First_Close|       Last_Close| Weekly_Return_Rate|\n",
            "+-----+----+----+-----------------+-----------------+-------------------+\n",
            "| AAPL|2020|   1| 75.0875015258789|74.35749816894531|-0.9722035519879405|\n",
            "| AAPL|2020|   2|74.94999694824219| 77.5824966430664|  3.512341296881079|\n",
            "| AAPL|2020|   3|79.23999786376953|79.68250274658203|  0.558436262925272|\n",
            "| AAPL|2020|   4|79.14250183105469|79.57749938964844| 0.5496383719614251|\n",
            "| AAPL|2020|   5|77.23750305175781|77.37750244140625| 0.1812583060260534|\n",
            "| AAPL|2020|   6|77.16500091552734|80.00749969482422|   3.68366324832752|\n",
            "| AAPL|2020|   7|80.38749694824219|81.23750305175781|  1.057385956503789|\n",
            "| AAPL|2020|   8|            79.75|78.26249694824219|-1.8652075884110502|\n",
            "| AAPL|2020|   9|74.54499816894531|68.33999633789062| -8.323833903640269|\n",
            "| AAPL|2020|  10|74.70249938964844|72.25749969482422|-3.2729824501200335|\n",
            "+-----+----+----+-----------------+-----------------+-------------------+\n",
            "only showing top 10 rows\n",
            "\n",
            "Monthly Return Rate:\n",
            "+-----+----+-----+------------------+------------------+-------------------+\n",
            "|Stock|Year|Month|       First_Close|        Last_Close|Monthly_Return_Rate|\n",
            "+-----+----+-----+------------------+------------------+-------------------+\n",
            "| AAPL|2020|    1|  75.0875015258789| 77.37750244140625| 3.0497764194991825|\n",
            "| AAPL|2020|    2| 77.16500091552734| 68.33999633789062|-11.436537903106442|\n",
            "| AAPL|2020|    3| 74.70249938964844|  63.5724983215332| -14.89910131394817|\n",
            "| AAPL|2020|    4|60.227500915527344| 73.44999694824219| 21.954249855494055|\n",
            "| AAPL|2020|    5| 72.26750183105469| 79.48500061035156|   9.98719838990668|\n",
            "| AAPL|2020|    6|  80.4625015258789| 91.19999694824219| 13.344719861723183|\n",
            "| AAPL|2020|    7| 91.02749633789062|106.26000213623047| 16.733961067980335|\n",
            "| AAPL|2020|    8|          108.9375| 129.0399932861328|  18.45323537453385|\n",
            "| AAPL|2020|    9|134.17999267578125|115.80999755859375|-13.690562021101663|\n",
            "| AAPL|2020|   10|116.79000091552734|108.86000061035156| -6.789965102330503|\n",
            "+-----+----+-----+------------------+------------------+-------------------+\n",
            "only showing top 10 rows\n",
            "\n",
            "Yearly Return Rate:\n",
            "+-----+----+------------------+------------------+------------------+\n",
            "|Stock|Year|       First_Close|        Last_Close|Yearly_Return_Rate|\n",
            "+-----+----+------------------+------------------+------------------+\n",
            "| AAPL|2020|  75.0875015258789|132.69000244140625| 76.71383352084852|\n",
            "| AAPL|2021|129.41000366210938|177.57000732421875|    37.21505470926|\n",
            "| AAPL|2022|182.00999450683594|129.92999267578125| -28.6138142974883|\n",
            "| AAPL|2023|125.06999969482422|192.52999877929688| 53.93779423449088|\n",
            "|GOOGL|2020| 68.43399810791016| 87.63200378417969|28.053315905929033|\n",
            "|GOOGL|2021| 86.30650329589844| 144.8520050048828| 67.83440351912235|\n",
            "|GOOGL|2022| 144.9915008544922|  88.2300033569336|-39.14815500428691|\n",
            "|GOOGL|2023| 89.12000274658203|139.69000244140625|  56.7437142463101|\n",
            "| MSFT|2020| 160.6199951171875| 222.4199981689453|38.475908934419316|\n",
            "| MSFT|2021|217.69000244140625|336.32000732421875| 54.49492560630712|\n",
            "+-----+----+------------------+------------------+------------------+\n",
            "only showing top 10 rows\n",
            "\n"
          ]
        }
      ]
    },
    {
      "cell_type": "markdown",
      "source": [
        "The weekly returns for AAPL in 2020 were generally stable, with minor fluctuations. The highest weekly return was +3.68% in week 6, while the largest drop was -8.32% in week 9, indicating some short-term volatility. In contrast, the monthly returns exhibited greater volatility, ranging from a sharp decline of -14.89% in March 2020 to a strong recovery of +21.95% in April 2020. This highlights the significant market recovery following initial losses. Overall, early 2020 was marked by steep declines and recoveries, while later months, such as October 2020, showed declining performance, reflecting a potential market slowdown towards the end of the year."
      ],
      "metadata": {
        "id": "8Hrwhd_oTMKj"
      }
    },
    {
      "cell_type": "markdown",
      "source": [
        "\n",
        "  Calculate the stock with the best return rate for a specific month or year.\n",
        "    \n",
        "    :param df: PySpark DataFrame containing stock data with \"Date\", \"Stock\", and \"Close\".\n",
        "    :param start_date: The start date (e.g., \"2020-01-01\").\n",
        "    :param period: The period to analyze (\"month\" or \"year\").\n",
        "    :return: The stock with the best return rate for the specified period.\n",
        "   "
      ],
      "metadata": {
        "id": "rp07p0JHTddA"
      }
    },
    {
      "cell_type": "code",
      "source": [
        "from pyspark.sql.functions import col, first, last, year, month\n",
        "\n",
        "def best_return_rate(df, start_date, period=\"month\"):\n",
        "\n",
        "    # Extract Year and Month from the Date column\n",
        "    df = df.withColumn(\"Year\", year(\"Date\")).withColumn(\"Month\", month(\"Date\"))\n",
        "\n",
        "    # Parse the start date\n",
        "    start_year, start_month, _ = map(int, start_date.split(\"-\"))\n",
        "\n",
        "    # Filter data based on the specified period\n",
        "    if period == \"month\":\n",
        "        filtered_df = df.filter((col(\"Year\") == start_year) & (col(\"Month\") == start_month))\n",
        "        group_by_cols = [\"Stock\", \"Year\", \"Month\"]\n",
        "    elif period == \"year\":\n",
        "        filtered_df = df.filter(col(\"Year\") == start_year)\n",
        "        group_by_cols = [\"Stock\", \"Year\"]\n",
        "    else:\n",
        "        raise ValueError(\"Invalid period. Choose 'month' or 'year'.\")\n",
        "\n",
        "    # Group data and calculate return rate\n",
        "    return_rate_df = filtered_df.groupBy(group_by_cols).agg(\n",
        "        first(\"Close\").alias(\"First_Close\"),\n",
        "        last(\"Close\").alias(\"Last_Close\")\n",
        "    ).withColumn(\"Return_Rate\", ((col(\"Last_Close\") - col(\"First_Close\")) / col(\"First_Close\")) * 100)\n",
        "\n",
        "    # Find the stock with the best return rate\n",
        "    best_stock = return_rate_df.orderBy(col(\"Return_Rate\").desc()).limit(1)\n",
        "\n",
        "    # Show the result\n",
        "    best_stock.show()\n",
        "\n",
        "    return best_stock\n"
      ],
      "metadata": {
        "id": "ww-A4N1UTavK"
      },
      "execution_count": 57,
      "outputs": []
    },
    {
      "cell_type": "code",
      "source": [
        "# Find the stock with the best return rate for January 2020\n",
        "best_stock = best_return_rate(combined_df, \"2020-01-01\", period=\"month\")\n",
        "\n",
        "# Find the stock with the best return rate for 2020\n",
        "best_stock_year = best_return_rate(combined_df, \"2020-01-01\", period=\"year\")\n"
      ],
      "metadata": {
        "colab": {
          "base_uri": "https://localhost:8080/"
        },
        "id": "3GQUnrHcTl_5",
        "outputId": "1db3e8aa-2200-4e06-9b57-de8db001e0e6"
      },
      "execution_count": 58,
      "outputs": [
        {
          "output_type": "stream",
          "name": "stdout",
          "text": [
            "+-----+----+-----+-----------------+------------------+-----------------+\n",
            "|Stock|Year|Month|      First_Close|        Last_Close|      Return_Rate|\n",
            "+-----+----+-----+-----------------+------------------+-----------------+\n",
            "| TSLA|2020|    1|28.68400001525879|43.371334075927734|51.20392571766785|\n",
            "+-----+----+-----+-----------------+------------------+-----------------+\n",
            "\n",
            "+-----+----+-----------------+------------------+-----------------+\n",
            "|Stock|Year|      First_Close|        Last_Close|      Return_Rate|\n",
            "+-----+----+-----------------+------------------+-----------------+\n",
            "| TSLA|2020|28.68400001525879|235.22332763671875|720.0506467423962|\n",
            "+-----+----+-----------------+------------------+-----------------+\n",
            "\n"
          ]
        }
      ]
    },
    {
      "cell_type": "markdown",
      "source": [
        "For January 2020, Tesla achieved the highest return rate of 51.20%, indicating significant growth in its stock price during the month. For the entire year of 2020, Tesla maintained its position as the top-performing stock with a staggering annual return rate of 720.05%, highlighting its remarkable performance and market demand throughout the year."
      ],
      "metadata": {
        "id": "SHpPLhbPT1fu"
      }
    }
  ]
}